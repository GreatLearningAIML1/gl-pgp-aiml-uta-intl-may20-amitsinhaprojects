{
 "cells": [
  {
   "cell_type": "raw",
   "metadata": {},
   "source": [
    "Learning Outcomes:\n",
    "\n",
    "* Exploratory Data Analysis\n",
    "* Preparing the data to train a model\n",
    "* Training and making predictions using a classification model\n",
    "* Model evaluation\n",
    "\n",
    "Objective:\n",
    "The classification goal is to predict the likelihood of a liability customer buying personal loans.\n",
    "Steps and tasks:\n",
    "\n",
    "1. Import the datasets and libraries, check datatype, statistical summary, shape, null values or incorrect imputation. (5 marks)\n",
    "\n",
    "2. EDA: Study the data distribution in each attribute and target variable, share your findings (20 marks)\n",
    "\n",
    "** Number of unique in each column?\n",
    "** Number of people with zero mortgage?\n",
    "** Number of people with zero credit card spending per month?\n",
    "** Value counts of all categorical columns.\n",
    "** Univariate and Bivariate\n",
    "** Get data model ready\n",
    "\n",
    "3. Split the data into training and test set in the ratio of 70:30 respectively (5 marks)\n",
    "\n",
    "4. Use Logistic Regression model to predict the number of a customers buying personal loans. Print all the metrics related for evaluating the model performance (15 marks)\n",
    "\n",
    "5. Give your reasoning on how can the model perform better? (10 marks)\n",
    "Hint: Check parameter\n",
    "\n",
    "6. Give Business understanding of your model? (5 marks)"
   ]
  },
  {
   "cell_type": "markdown",
   "metadata": {},
   "source": [
    "## 1. Import the datasets and libraries, check datatype, statistical summary, shape, null values or incorrect imputation. (5 marks)"
   ]
  },
  {
   "cell_type": "code",
   "execution_count": 1,
   "metadata": {},
   "outputs": [],
   "source": [
    "import warnings\n",
    "warnings.filterwarnings('ignore')\n",
    "\n",
    "# Import modules\n",
    "import numpy as np\n",
    "import pandas as pd\n",
    "import matplotlib.pyplot as plt\n",
    "import seaborn as sns\n",
    "from sklearn.preprocessing import OneHotEncoder\n",
    "\n",
    "from sklearn.model_selection import train_test_split\n",
    "from sklearn.metrics import plot_confusion_matrix\n",
    "from sklearn.metrics import confusion_matrix, recall_score, precision_score, f1_score, roc_auc_score,accuracy_score\n",
    "from sklearn.linear_model import LogisticRegression\n",
    "\n",
    "from sklearn.metrics import roc_auc_score\n",
    "from sklearn.metrics import roc_curve\n",
    "\n",
    "#### Set module features\n",
    "%matplotlib inline\n",
    "sns.set(color_codes=True)"
   ]
  },
  {
   "cell_type": "code",
   "execution_count": 2,
   "metadata": {},
   "outputs": [
    {
     "data": {
      "text/html": [
       "<div>\n",
       "<style scoped>\n",
       "    .dataframe tbody tr th:only-of-type {\n",
       "        vertical-align: middle;\n",
       "    }\n",
       "\n",
       "    .dataframe tbody tr th {\n",
       "        vertical-align: top;\n",
       "    }\n",
       "\n",
       "    .dataframe thead th {\n",
       "        text-align: right;\n",
       "    }\n",
       "</style>\n",
       "<table border=\"1\" class=\"dataframe\">\n",
       "  <thead>\n",
       "    <tr style=\"text-align: right;\">\n",
       "      <th></th>\n",
       "      <th>ID</th>\n",
       "      <th>Age</th>\n",
       "      <th>Experience</th>\n",
       "      <th>Income</th>\n",
       "      <th>ZIP Code</th>\n",
       "      <th>Family</th>\n",
       "      <th>CCAvg</th>\n",
       "      <th>Education</th>\n",
       "      <th>Mortgage</th>\n",
       "      <th>Personal Loan</th>\n",
       "      <th>Securities Account</th>\n",
       "      <th>CD Account</th>\n",
       "      <th>Online</th>\n",
       "      <th>CreditCard</th>\n",
       "    </tr>\n",
       "  </thead>\n",
       "  <tbody>\n",
       "    <tr>\n",
       "      <th>0</th>\n",
       "      <td>1</td>\n",
       "      <td>25</td>\n",
       "      <td>1</td>\n",
       "      <td>49</td>\n",
       "      <td>91107</td>\n",
       "      <td>4</td>\n",
       "      <td>1.6</td>\n",
       "      <td>1</td>\n",
       "      <td>0</td>\n",
       "      <td>0</td>\n",
       "      <td>1</td>\n",
       "      <td>0</td>\n",
       "      <td>0</td>\n",
       "      <td>0</td>\n",
       "    </tr>\n",
       "    <tr>\n",
       "      <th>1</th>\n",
       "      <td>2</td>\n",
       "      <td>45</td>\n",
       "      <td>19</td>\n",
       "      <td>34</td>\n",
       "      <td>90089</td>\n",
       "      <td>3</td>\n",
       "      <td>1.5</td>\n",
       "      <td>1</td>\n",
       "      <td>0</td>\n",
       "      <td>0</td>\n",
       "      <td>1</td>\n",
       "      <td>0</td>\n",
       "      <td>0</td>\n",
       "      <td>0</td>\n",
       "    </tr>\n",
       "    <tr>\n",
       "      <th>2</th>\n",
       "      <td>3</td>\n",
       "      <td>39</td>\n",
       "      <td>15</td>\n",
       "      <td>11</td>\n",
       "      <td>94720</td>\n",
       "      <td>1</td>\n",
       "      <td>1.0</td>\n",
       "      <td>1</td>\n",
       "      <td>0</td>\n",
       "      <td>0</td>\n",
       "      <td>0</td>\n",
       "      <td>0</td>\n",
       "      <td>0</td>\n",
       "      <td>0</td>\n",
       "    </tr>\n",
       "    <tr>\n",
       "      <th>3</th>\n",
       "      <td>4</td>\n",
       "      <td>35</td>\n",
       "      <td>9</td>\n",
       "      <td>100</td>\n",
       "      <td>94112</td>\n",
       "      <td>1</td>\n",
       "      <td>2.7</td>\n",
       "      <td>2</td>\n",
       "      <td>0</td>\n",
       "      <td>0</td>\n",
       "      <td>0</td>\n",
       "      <td>0</td>\n",
       "      <td>0</td>\n",
       "      <td>0</td>\n",
       "    </tr>\n",
       "    <tr>\n",
       "      <th>4</th>\n",
       "      <td>5</td>\n",
       "      <td>35</td>\n",
       "      <td>8</td>\n",
       "      <td>45</td>\n",
       "      <td>91330</td>\n",
       "      <td>4</td>\n",
       "      <td>1.0</td>\n",
       "      <td>2</td>\n",
       "      <td>0</td>\n",
       "      <td>0</td>\n",
       "      <td>0</td>\n",
       "      <td>0</td>\n",
       "      <td>0</td>\n",
       "      <td>1</td>\n",
       "    </tr>\n",
       "  </tbody>\n",
       "</table>\n",
       "</div>"
      ],
      "text/plain": [
       "   ID  Age  Experience  Income  ZIP Code  Family  CCAvg  Education  Mortgage  \\\n",
       "0   1   25           1      49     91107       4    1.6          1         0   \n",
       "1   2   45          19      34     90089       3    1.5          1         0   \n",
       "2   3   39          15      11     94720       1    1.0          1         0   \n",
       "3   4   35           9     100     94112       1    2.7          2         0   \n",
       "4   5   35           8      45     91330       4    1.0          2         0   \n",
       "\n",
       "   Personal Loan  Securities Account  CD Account  Online  CreditCard  \n",
       "0              0                   1           0       0           0  \n",
       "1              0                   1           0       0           0  \n",
       "2              0                   0           0       0           0  \n",
       "3              0                   0           0       0           0  \n",
       "4              0                   0           0       0           1  "
      ]
     },
     "execution_count": 2,
     "metadata": {},
     "output_type": "execute_result"
    }
   ],
   "source": [
    "# Load Data\n",
    "df = pd.read_csv(\"Bank_Personal_Loan_Modelling.csv\")\n",
    "df.head()"
   ]
  },
  {
   "cell_type": "code",
   "execution_count": 3,
   "metadata": {},
   "outputs": [
    {
     "data": {
      "text/html": [
       "<div>\n",
       "<style scoped>\n",
       "    .dataframe tbody tr th:only-of-type {\n",
       "        vertical-align: middle;\n",
       "    }\n",
       "\n",
       "    .dataframe tbody tr th {\n",
       "        vertical-align: top;\n",
       "    }\n",
       "\n",
       "    .dataframe thead th {\n",
       "        text-align: right;\n",
       "    }\n",
       "</style>\n",
       "<table border=\"1\" class=\"dataframe\">\n",
       "  <thead>\n",
       "    <tr style=\"text-align: right;\">\n",
       "      <th></th>\n",
       "      <th>Age</th>\n",
       "      <th>Experience</th>\n",
       "      <th>Income</th>\n",
       "      <th>Family</th>\n",
       "      <th>CCAvg</th>\n",
       "      <th>Education</th>\n",
       "      <th>Mortgage</th>\n",
       "      <th>Personal Loan</th>\n",
       "      <th>Securities Account</th>\n",
       "      <th>CD Account</th>\n",
       "      <th>Online</th>\n",
       "      <th>CreditCard</th>\n",
       "    </tr>\n",
       "  </thead>\n",
       "  <tbody>\n",
       "    <tr>\n",
       "      <th>0</th>\n",
       "      <td>25</td>\n",
       "      <td>1</td>\n",
       "      <td>49</td>\n",
       "      <td>4</td>\n",
       "      <td>1.6</td>\n",
       "      <td>1</td>\n",
       "      <td>0</td>\n",
       "      <td>0</td>\n",
       "      <td>1</td>\n",
       "      <td>0</td>\n",
       "      <td>0</td>\n",
       "      <td>0</td>\n",
       "    </tr>\n",
       "    <tr>\n",
       "      <th>1</th>\n",
       "      <td>45</td>\n",
       "      <td>19</td>\n",
       "      <td>34</td>\n",
       "      <td>3</td>\n",
       "      <td>1.5</td>\n",
       "      <td>1</td>\n",
       "      <td>0</td>\n",
       "      <td>0</td>\n",
       "      <td>1</td>\n",
       "      <td>0</td>\n",
       "      <td>0</td>\n",
       "      <td>0</td>\n",
       "    </tr>\n",
       "    <tr>\n",
       "      <th>2</th>\n",
       "      <td>39</td>\n",
       "      <td>15</td>\n",
       "      <td>11</td>\n",
       "      <td>1</td>\n",
       "      <td>1.0</td>\n",
       "      <td>1</td>\n",
       "      <td>0</td>\n",
       "      <td>0</td>\n",
       "      <td>0</td>\n",
       "      <td>0</td>\n",
       "      <td>0</td>\n",
       "      <td>0</td>\n",
       "    </tr>\n",
       "    <tr>\n",
       "      <th>3</th>\n",
       "      <td>35</td>\n",
       "      <td>9</td>\n",
       "      <td>100</td>\n",
       "      <td>1</td>\n",
       "      <td>2.7</td>\n",
       "      <td>2</td>\n",
       "      <td>0</td>\n",
       "      <td>0</td>\n",
       "      <td>0</td>\n",
       "      <td>0</td>\n",
       "      <td>0</td>\n",
       "      <td>0</td>\n",
       "    </tr>\n",
       "    <tr>\n",
       "      <th>4</th>\n",
       "      <td>35</td>\n",
       "      <td>8</td>\n",
       "      <td>45</td>\n",
       "      <td>4</td>\n",
       "      <td>1.0</td>\n",
       "      <td>2</td>\n",
       "      <td>0</td>\n",
       "      <td>0</td>\n",
       "      <td>0</td>\n",
       "      <td>0</td>\n",
       "      <td>0</td>\n",
       "      <td>1</td>\n",
       "    </tr>\n",
       "  </tbody>\n",
       "</table>\n",
       "</div>"
      ],
      "text/plain": [
       "   Age  Experience  Income  Family  CCAvg  Education  Mortgage  Personal Loan  \\\n",
       "0   25           1      49       4    1.6          1         0              0   \n",
       "1   45          19      34       3    1.5          1         0              0   \n",
       "2   39          15      11       1    1.0          1         0              0   \n",
       "3   35           9     100       1    2.7          2         0              0   \n",
       "4   35           8      45       4    1.0          2         0              0   \n",
       "\n",
       "   Securities Account  CD Account  Online  CreditCard  \n",
       "0                   1           0       0           0  \n",
       "1                   1           0       0           0  \n",
       "2                   0           0       0           0  \n",
       "3                   0           0       0           0  \n",
       "4                   0           0       0           1  "
      ]
     },
     "execution_count": 3,
     "metadata": {},
     "output_type": "execute_result"
    }
   ],
   "source": [
    "# Drop ID and ZIP Code\n",
    "cr_df = df.drop(['ID','ZIP Code'], axis =1 )\n",
    "cr_df.head()"
   ]
  },
  {
   "cell_type": "code",
   "execution_count": 4,
   "metadata": {},
   "outputs": [
    {
     "name": "stdout",
     "output_type": "stream",
     "text": [
      "Df size = (5000, 12)\n",
      "<class 'pandas.core.frame.DataFrame'>\n",
      "RangeIndex: 5000 entries, 0 to 4999\n",
      "Data columns (total 12 columns):\n",
      " #   Column              Non-Null Count  Dtype  \n",
      "---  ------              --------------  -----  \n",
      " 0   Age                 5000 non-null   int64  \n",
      " 1   Experience          5000 non-null   int64  \n",
      " 2   Income              5000 non-null   int64  \n",
      " 3   Family              5000 non-null   int64  \n",
      " 4   CCAvg               5000 non-null   float64\n",
      " 5   Education           5000 non-null   int64  \n",
      " 6   Mortgage            5000 non-null   int64  \n",
      " 7   Personal Loan       5000 non-null   int64  \n",
      " 8   Securities Account  5000 non-null   int64  \n",
      " 9   CD Account          5000 non-null   int64  \n",
      " 10  Online              5000 non-null   int64  \n",
      " 11  CreditCard          5000 non-null   int64  \n",
      "dtypes: float64(1), int64(11)\n",
      "memory usage: 468.9 KB\n"
     ]
    }
   ],
   "source": [
    "#shape ane describe\n",
    "print( f'Df size = {cr_df.shape}')\n",
    "cr_df.info()"
   ]
  },
  {
   "cell_type": "code",
   "execution_count": 5,
   "metadata": {},
   "outputs": [
    {
     "name": "stdout",
     "output_type": "stream",
     "text": [
      "Is Nan count ? \n",
      "Age                   0\n",
      "Experience            0\n",
      "Income                0\n",
      "Family                0\n",
      "CCAvg                 0\n",
      "Education             0\n",
      "Mortgage              0\n",
      "Personal Loan         0\n",
      "Securities Account    0\n",
      "CD Account            0\n",
      "Online                0\n",
      "CreditCard            0\n",
      "dtype: int64\n"
     ]
    }
   ],
   "source": [
    "#missing\n",
    "print( f'Is Nan count ? \\n{cr_df.isna().sum()}') # none missing"
   ]
  },
  {
   "cell_type": "code",
   "execution_count": 6,
   "metadata": {},
   "outputs": [
    {
     "name": "stdout",
     "output_type": "stream",
     "text": [
      "*All[12] {'Experience', 'CD Account', 'Online', 'Education', 'Family', 'Mortgage', 'Income', 'Personal Loan', 'Securities Account', 'CreditCard', 'CCAvg', 'Age'}\n",
      "\n",
      "*Boolean[5] {'CD Account', 'Online', 'Personal Loan', 'Securities Account', 'CreditCard'}\n",
      "\n",
      "*Numeric[6] {'Experience', 'Family', 'Mortgage', 'Income', 'CCAvg', 'Age'}\n",
      "\n",
      "*Categoty[1] {'Education'}\n",
      "\n"
     ]
    }
   ],
   "source": [
    "#column sets\n",
    "df_cols  = set(cr_df.columns)\n",
    "df_cols_boolean  = {'Personal Loan','Securities Account','CD Account','Online','CreditCard'}\n",
    "df_cols_numeric  = {'Income',  'Family',  'CCAvg', 'Age', 'Experience','Mortgage'}\n",
    "df_cols_category  = {'Education'}\n",
    "\n",
    "print(f'*All[{len(df_cols)}] {df_cols}\\n')\n",
    "print(f'*Boolean[{len(df_cols_boolean)}] {df_cols_boolean}\\n')\n",
    "print(f'*Numeric[{len(df_cols_numeric)}] {df_cols_numeric}\\n')\n",
    "print(f'*Categoty[{len(df_cols_category)}] {df_cols_category}\\n')  # Family is category or ordinal?\n",
    "\n"
   ]
  },
  {
   "cell_type": "code",
   "execution_count": 7,
   "metadata": {},
   "outputs": [
    {
     "name": "stdout",
     "output_type": "stream",
     "text": [
      "Unique values for Education :\n",
      "1    2096\n",
      "3    1501\n",
      "2    1403\n",
      "Name: Education, dtype: int64\n",
      "\n"
     ]
    }
   ],
   "source": [
    "# Check category\n",
    "for x in df_cols_category:\n",
    "    cr_df[x]=cr_df[x].astype('category')\n",
    "    print( f'Unique values for {x} :\\n{cr_df[x].value_counts()}\\n')\n"
   ]
  },
  {
   "cell_type": "code",
   "execution_count": 8,
   "metadata": {},
   "outputs": [
    {
     "name": "stdout",
     "output_type": "stream",
     "text": [
      "Unique values for CD Account :\n",
      "0    0.9396\n",
      "1    0.0604\n",
      "Name: CD Account, dtype: float64\n",
      "\n",
      "Unique values for Online :\n",
      "1    0.5968\n",
      "0    0.4032\n",
      "Name: Online, dtype: float64\n",
      "\n",
      "Unique values for Personal Loan :\n",
      "0    0.904\n",
      "1    0.096\n",
      "Name: Personal Loan, dtype: float64\n",
      "\n",
      "Unique values for Securities Account :\n",
      "0    0.8956\n",
      "1    0.1044\n",
      "Name: Securities Account, dtype: float64\n",
      "\n",
      "Unique values for CreditCard :\n",
      "0    0.706\n",
      "1    0.294\n",
      "Name: CreditCard, dtype: float64\n",
      "\n"
     ]
    }
   ],
   "source": [
    "# Check boolean\n",
    "for x in df_cols_boolean:\n",
    "    print( f'Unique values for {x} :\\n{cr_df[x].value_counts(normalize= True)}\\n')\n",
    "\n",
    "#very few Securities Account, CD Account"
   ]
  },
  {
   "cell_type": "code",
   "execution_count": 9,
   "metadata": {},
   "outputs": [
    {
     "name": "stdout",
     "output_type": "stream",
     "text": [
      "\n",
      "Numeric \n",
      "             count       mean         std   min   25%   50%    75%    max\n",
      "Experience  5000.0  20.104600   11.467954  -3.0  10.0  20.0   30.0   43.0\n",
      "Family      5000.0   2.396400    1.147663   1.0   1.0   2.0    3.0    4.0\n",
      "Mortgage    5000.0  56.498800  101.713802   0.0   0.0   0.0  101.0  635.0\n",
      "Income      5000.0  73.774200   46.033729   8.0  39.0  64.0   98.0  224.0\n",
      "CCAvg       5000.0   1.937938    1.747659   0.0   0.7   1.5    2.5   10.0\n",
      "Age         5000.0  45.338400   11.463166  23.0  35.0  45.0   55.0   67.0\n",
      "(52, 12)\n",
      "\n",
      "Expereince Fixed\n",
      "count    5000.000000\n",
      "mean       20.119600\n",
      "std        11.440484\n",
      "min         0.000000\n",
      "25%        10.000000\n",
      "50%        20.000000\n",
      "75%        30.000000\n",
      "max        43.000000\n",
      "Name: Experience, dtype: float64\n",
      "\n",
      "Records with Expereince > Age (0, 12)\n"
     ]
    }
   ],
   "source": [
    "#Numeric \n",
    "print( f'\\nNumeric \\n{cr_df[df_cols_numeric].describe().T}')\n",
    "\n",
    "#Fixing experience Experience is negative \n",
    "print(cr_df[cr_df.Experience <0].shape)\n",
    "\n",
    "#It seems like negative experience all other data is correct , so I will replace negative with 0\n",
    "cr_df['Experience'] = cr_df.Experience.map( lambda x: 0 if x<0 else x )\n",
    "print( f'\\nExpereince Fixed\\n{cr_df.Experience.describe()}')\n",
    "\n",
    "#checking any record with experience > Age\n",
    "print(f'\\nRecords with Expereince > Age {cr_df[cr_df.Experience >= cr_df.Age].shape}')"
   ]
  },
  {
   "cell_type": "code",
   "execution_count": 10,
   "metadata": {},
   "outputs": [
    {
     "data": {
      "text/plain": [
       "1    0.2944\n",
       "2    0.2592\n",
       "4    0.2444\n",
       "3    0.2020\n",
       "Name: Family, dtype: float64"
      ]
     },
     "execution_count": 10,
     "metadata": {},
     "output_type": "execute_result"
    }
   ],
   "source": [
    "#Family\n",
    "cr_df['Family'].value_counts(normalize=True)"
   ]
  },
  {
   "cell_type": "code",
   "execution_count": 11,
   "metadata": {},
   "outputs": [
    {
     "data": {
      "text/plain": [
       "1    0.4192\n",
       "3    0.3002\n",
       "2    0.2806\n",
       "Name: Education, dtype: float64"
      ]
     },
     "execution_count": 11,
     "metadata": {},
     "output_type": "execute_result"
    }
   ],
   "source": [
    "#Education\n",
    "cr_df['Education'].value_counts(normalize=True)"
   ]
  },
  {
   "cell_type": "code",
   "execution_count": 12,
   "metadata": {},
   "outputs": [
    {
     "data": {
      "text/plain": [
       "<matplotlib.axes._subplots.AxesSubplot at 0x234ab5a8548>"
      ]
     },
     "execution_count": 12,
     "metadata": {},
     "output_type": "execute_result"
    },
    {
     "data": {
      "image/png": "[encoded data removed]",
      "text/plain": [
       "<Figure size 576x288 with 2 Axes>"
      ]
     },
     "metadata": {},
     "output_type": "display_data"
    }
   ],
   "source": [
    "#Age\n",
    "fix , axs = plt.subplots(1,2,figsize=(8,4))\n",
    "sns.countplot(cr_df[cr_df['Personal Loan']==0]['Age'], ax = axs[0])\n",
    "sns.countplot(cr_df[cr_df['Personal Loan']==1]['Age'], ax = axs[1])"
   ]
  },
  {
   "cell_type": "markdown",
   "metadata": {},
   "source": [
    "## 2. EDA: Study the data distribution in each attribute and target variable, share your findings (20 marks)\n",
    "\n",
    "* Number of unique in each column?\n",
    "* Number of people with zero mortgage?\n",
    "* Number of people with zero credit card spending per month?\n",
    "* Value counts of all categorical columns.\n",
    "* Univariate and Bivariate\n",
    "* Get data model ready"
   ]
  },
  {
   "cell_type": "code",
   "execution_count": 13,
   "metadata": {},
   "outputs": [
    {
     "name": "stdout",
     "output_type": "stream",
     "text": [
      "Unique values for Education :\n",
      "1    2096\n",
      "3    1501\n",
      "2    1403\n",
      "Name: Education, dtype: int64\n",
      "\n",
      "Unique values for CD Account :\n",
      "0    0.9396\n",
      "1    0.0604\n",
      "Name: CD Account, dtype: float64\n",
      "\n",
      "Unique values for Online :\n",
      "1    0.5968\n",
      "0    0.4032\n",
      "Name: Online, dtype: float64\n",
      "\n",
      "Unique values for Personal Loan :\n",
      "0    0.904\n",
      "1    0.096\n",
      "Name: Personal Loan, dtype: float64\n",
      "\n",
      "Unique values for Securities Account :\n",
      "0    0.8956\n",
      "1    0.1044\n",
      "Name: Securities Account, dtype: float64\n",
      "\n",
      "Unique values for CreditCard :\n",
      "0    0.706\n",
      "1    0.294\n",
      "Name: CreditCard, dtype: float64\n",
      "\n"
     ]
    }
   ],
   "source": [
    "# Number of unique in each column?\n",
    "#Value counts of all categorical columns.\n",
    "\n",
    "for x in df_cols_category:\n",
    "    cr_df[x]=cr_df[x].astype('category')\n",
    "    print( f'Unique values for {x} :\\n{cr_df[x].value_counts()}\\n')\n",
    "    \n",
    "cr_df['Family'].value_counts(normalize=True)\n",
    "\n",
    "for x in df_cols_boolean:\n",
    "    print( f'Unique values for {x} :\\n{cr_df[x].value_counts(normalize= True)}\\n')\n",
    "\n"
   ]
  },
  {
   "cell_type": "code",
   "execution_count": 14,
   "metadata": {},
   "outputs": [
    {
     "name": "stdout",
     "output_type": "stream",
     "text": [
      "\n",
      "Mortgage =0 => 3462\n"
     ]
    },
    {
     "data": {
      "image/png": "[encoded data removed]",
      "text/plain": [
       "<Figure size 864x432 with 2 Axes>"
      ]
     },
     "metadata": {},
     "output_type": "display_data"
    }
   ],
   "source": [
    "# Number of people with zero mortgage?\n",
    "df_mort_zero = cr_df[cr_df.Mortgage ==0]\n",
    "print( f'\\nMortgage =0 => {df_mort_zero.shape[0]}')\n",
    "fig, axs = plt.subplots(1,2, figsize=(12,6))\n",
    "sns.distplot(cr_df.Mortgage, kde=False , ax = axs[0])\n",
    "sns.distplot(cr_df.Mortgage[ cr_df['Personal Loan']==1], kde=False , ax = axs[1])\n",
    "axs[1].set_xlabel('Mortgage for Personal Loan =1')\n",
    "plt.show()\n"
   ]
  },
  {
   "cell_type": "code",
   "execution_count": 15,
   "metadata": {},
   "outputs": [
    {
     "name": "stdout",
     "output_type": "stream",
     "text": [
      "\n",
      "CCAvg =0 => 106\n"
     ]
    },
    {
     "data": {
      "image/png": "[encoded data removed]",
      "text/plain": [
       "<Figure size 864x432 with 1 Axes>"
      ]
     },
     "metadata": {},
     "output_type": "display_data"
    }
   ],
   "source": [
    "#Number of people with zero credit card spending per month?\n",
    "df_ccavg_zero = cr_df[cr_df.CCAvg ==0]\n",
    "print( f'\\nCCAvg =0 => {df_ccavg_zero.shape[0]}')\n",
    "fig, axs = plt.subplots(1,1, figsize=(12,6))\n",
    "sns.distplot(cr_df.CCAvg, kde=False , ax = axs)\n",
    "plt.show()\n"
   ]
  },
  {
   "cell_type": "code",
   "execution_count": 16,
   "metadata": {},
   "outputs": [
    {
     "name": "stdout",
     "output_type": "stream",
     "text": [
      "               Experience    Family    Mortgage      Income     CCAvg  \\\n",
      "Personal Loan                                                           \n",
      "0               20.148894  2.373451   51.789381   66.237389  1.729009   \n",
      "1               19.843750  2.612500  100.845833  144.745833  3.905354   \n",
      "\n",
      "                     Age  \n",
      "Personal Loan             \n",
      "0              45.367257  \n",
      "1              45.066667  \n",
      "\n",
      "Personal Loan  Securities Account\n",
      "0              0                     4058\n",
      "               1                      462\n",
      "1              0                      420\n",
      "               1                       60\n",
      "Name: Securities Account, dtype: int64\n",
      "\n",
      "Personal Loan  Online\n",
      "0              0         1827\n",
      "               1         2693\n",
      "1              0          189\n",
      "               1          291\n",
      "Name: Online, dtype: int64\n",
      "\n",
      "Personal Loan  CD Account\n",
      "0              0             4358\n",
      "               1              162\n",
      "1              0              340\n",
      "               1              140\n",
      "Name: CD Account, dtype: int64\n",
      "\n",
      "Personal Loan  CreditCard\n",
      "0              0             3193\n",
      "               1             1327\n",
      "1              0              337\n",
      "               1              143\n",
      "Name: CreditCard, dtype: int64\n",
      "\n"
     ]
    }
   ],
   "source": [
    "# Let us look at the target column which is 'Personal Loan' to understand how the data is distributed amongst the various values\n",
    "print(cr_df.groupby([\"Personal Loan\"])[list(df_cols_numeric)].mean())\n",
    "print()\n",
    "\n",
    "# Age , Experience, Family do not seem to be the discriminating variables\n",
    "\n",
    "for x in df_cols_boolean -{'Personal Loan'}:\n",
    "    print(cr_df.groupby([\"Personal Loan\", x])[x].count())\n",
    "    print()\n",
    "\n",
    "# seems like not having a Securities Account, makes personal loan more appealing"
   ]
  },
  {
   "cell_type": "code",
   "execution_count": 17,
   "metadata": {},
   "outputs": [
    {
     "data": {
      "image/png": "[encoded data removed]",
      "text/plain": [
       "<Figure size 432x288 with 2 Axes>"
      ]
     },
     "metadata": {},
     "output_type": "display_data"
    }
   ],
   "source": [
    "# correlation\n",
    "corr = cr_df.corr()\n",
    "sns.heatmap(corr)\n",
    "plt.show()\n"
   ]
  },
  {
   "cell_type": "code",
   "execution_count": 18,
   "metadata": {},
   "outputs": [
    {
     "data": {
      "image/png": "[encoded data removed]",
      "text/plain": [
       "<Figure size 1152x288 with 5 Axes>"
      ]
     },
     "metadata": {},
     "output_type": "display_data"
    },
    {
     "data": {
      "image/png": "[encoded data removed]",
      "text/plain": [
       "<Figure size 576x288 with 2 Axes>"
      ]
     },
     "metadata": {},
     "output_type": "display_data"
    }
   ],
   "source": [
    "# Here I will just study the distribution for people who got loan and who didnt\n",
    "\n",
    "fig, axs = plt.subplots(1,5,figsize=(16,4))\n",
    "sns.boxplot(y = cr_df.CCAvg , x = cr_df['Personal Loan'], ax = axs[0])\n",
    "sns.boxplot(y = cr_df.Income , x = cr_df['Personal Loan'], ax = axs[1])\n",
    "sns.boxplot(y = cr_df.Mortgage        , x = cr_df['Personal Loan'], ax = axs[2])\n",
    "sns.boxplot(y = cr_df.Experience      , x = cr_df['Personal Loan'], ax = axs[3])\n",
    "sns.boxplot(y = cr_df.Age      , x = cr_df['Personal Loan'], ax = axs[4])\n",
    "plt.show()\n",
    "\n",
    "\n",
    "fig, axs = plt.subplots(1,2,figsize=(8,4))\n",
    "sns.countplot(x = cr_df['Personal Loan'],hue =cr_df['Education'], ax = axs[0])\n",
    "sns.countplot(x = cr_df['Personal Loan'],hue =cr_df['Family'], ax = axs[1])\n",
    "\n",
    "plt.show()\n"
   ]
  },
  {
   "cell_type": "code",
   "execution_count": null,
   "metadata": {},
   "outputs": [],
   "source": []
  },
  {
   "cell_type": "code",
   "execution_count": 19,
   "metadata": {},
   "outputs": [],
   "source": [
    "# Get data model ready\n",
    "# preparing x , y \n",
    "\n",
    "#for education I need to add dummies\n",
    "dfmodel = pd.concat( [cr_df , pd.get_dummies(cr_df['Education'], prefix = 'Edu', drop_first = True)], axis = 1)\n",
    "dfmodel.drop('Education', axis =1 , inplace= True)\n",
    "\n",
    "y = dfmodel['Personal Loan']\n",
    "x = dfmodel.drop('Personal Loan', axis = 1)\n",
    "\n"
   ]
  },
  {
   "cell_type": "markdown",
   "metadata": {},
   "source": [
    "##  3. Split the data into training and test set in the ratio of 70:30 respectively (5 marks)"
   ]
  },
  {
   "cell_type": "code",
   "execution_count": 20,
   "metadata": {},
   "outputs": [],
   "source": [
    "#split data \n",
    "x_train , x_test , y_train , y_test = train_test_split( x , y , test_size = 0.3 , random_state = 7)\n"
   ]
  },
  {
   "cell_type": "markdown",
   "metadata": {},
   "source": [
    "## 4. Use Logistic Regression model to predict the number of a customers buying personal loans. Print all the metrics related for evaluating the model performance (15 marks)"
   ]
  },
  {
   "cell_type": "code",
   "execution_count": 21,
   "metadata": {},
   "outputs": [
    {
     "data": {
      "text/plain": [
       "LogisticRegression(C=1.0, class_weight=None, dual=False, fit_intercept=True,\n",
       "                   intercept_scaling=1, l1_ratio=None, max_iter=100,\n",
       "                   multi_class='auto', n_jobs=None, penalty='l2',\n",
       "                   random_state=42, solver='liblinear', tol=0.0001, verbose=0,\n",
       "                   warm_start=False)"
      ]
     },
     "execution_count": 21,
     "metadata": {},
     "output_type": "execute_result"
    }
   ],
   "source": [
    "# create model\n",
    "logreg = LogisticRegression(random_state=42, solver = 'liblinear')\n",
    "logreg.fit(x_train, y_train)\n"
   ]
  },
  {
   "cell_type": "code",
   "execution_count": 22,
   "metadata": {},
   "outputs": [],
   "source": [
    "#predict probability\n",
    "y_probability = logreg.predict_proba(x_test,)[:,np.where(logreg.classes_ ==1)[0][0]] # get the true \n",
    "y_predict = logreg.predict(x_test)"
   ]
  },
  {
   "cell_type": "code",
   "execution_count": 23,
   "metadata": {},
   "outputs": [],
   "source": [
    "# display model\n",
    "\n",
    "# function to get confusion matrix in a proper format\n",
    "def draw_cm( actual, predicted , ax):\n",
    "    cm = confusion_matrix( actual, predicted)\n",
    "    sns.heatmap(cm, annot=True,  fmt='.2f', xticklabels = [0,1] , yticklabels = [0,1] , ax = ax )\n",
    "    plt.ylabel('Observed')\n",
    "    plt.xlabel('Predicted')\n",
    "   \n",
    "    \n",
    "#AUC ROC curve\n",
    "def draw_roc(model , x_test , y_test , y_predict , y_proba , ax):\n",
    "    logit_roc_auc = roc_auc_score(y_test, y_predict)\n",
    "    fpr, tpr, thresholds = roc_curve(y_test, y_proba)\n",
    "    plt.plot(fpr, tpr, label='Logistic Regression (area = %0.2f)' % logit_roc_auc)\n",
    "    plt.plot([0, 1], [0, 1],'r--')\n",
    "    plt.xlim([0.0, 1.0])\n",
    "    plt.ylim([0.0, 1.05])\n",
    "    plt.xlabel('False Positive Rate')\n",
    "    plt.ylabel('True Positive Rate')\n",
    "    plt.title('Receiver operating characteristic')\n",
    "    plt.legend(loc=\"lower right\")\n",
    "    \n",
    "def display_model( displaygraph ,model , x_test , y_test, x_train , y_train, y_predict, y_proba , d):\n",
    "    \n",
    "    if displaygraph:\n",
    "        fig , axs = plt.subplots(1,2,figsize=(10,4))\n",
    "        draw_cm(y_test,y_predict , axs[0])\n",
    "        draw_roc(model , x_test , y_test, y_predict, y_proba, axs[1] )\n",
    "        plt.show()\n",
    "        print()\n",
    "    d[\"Trainig accuracy\"]=model.score(x_train,y_train)\n",
    "    d[\"Testing accuracy\"]=model.score(x_test, y_test)\n",
    "    d[\"Recall\"]=recall_score(y_test,y_predict) # tp/(tp+fn)\n",
    "    d[\"Precision\"]=precision_score(y_test,y_predict) # tp/(tp+fp)\n",
    "    d[\"F1 Score\"]=f1_score(y_test,y_predict)\n",
    "    d[\"Roc Auc Score\"]=roc_auc_score(y_test,y_predict)\n",
    "    \n",
    "#displaying  for a model\n",
    "def get_model_params(model):\n",
    "    d={}\n",
    "    p = model.get_params()\n",
    "    d['C'] =p['C']\n",
    "    d['solver'] =p['solver']\n",
    "    d['penalty'] =p['penalty']\n",
    "    return d\n",
    "\n"
   ]
  },
  {
   "cell_type": "code",
   "execution_count": 24,
   "metadata": {},
   "outputs": [
    {
     "data": {
      "image/png": "[encoded data removed]",
      "text/plain": [
       "<Figure size 720x288 with 3 Axes>"
      ]
     },
     "metadata": {},
     "output_type": "display_data"
    },
    {
     "name": "stdout",
     "output_type": "stream",
     "text": [
      "\n",
      "{'C': 1.0, 'solver': 'liblinear', 'penalty': 'l2', 'Trainig accuracy': 0.9562857142857143, 'Testing accuracy': 0.96, 'Recall': 0.644927536231884, 'Precision': 0.89, 'F1 Score': 0.7478991596638656, 'Roc Auc Score': 0.8184255889676308}\n"
     ]
    },
    {
     "data": {
      "text/html": [
       "<div>\n",
       "<style scoped>\n",
       "    .dataframe tbody tr th:only-of-type {\n",
       "        vertical-align: middle;\n",
       "    }\n",
       "\n",
       "    .dataframe tbody tr th {\n",
       "        vertical-align: top;\n",
       "    }\n",
       "\n",
       "    .dataframe thead th {\n",
       "        text-align: right;\n",
       "    }\n",
       "</style>\n",
       "<table border=\"1\" class=\"dataframe\">\n",
       "  <thead>\n",
       "    <tr style=\"text-align: right;\">\n",
       "      <th></th>\n",
       "      <th>Age</th>\n",
       "      <th>Experience</th>\n",
       "      <th>Income</th>\n",
       "      <th>Family</th>\n",
       "      <th>CCAvg</th>\n",
       "      <th>Mortgage</th>\n",
       "      <th>Securities Account</th>\n",
       "      <th>CD Account</th>\n",
       "      <th>Online</th>\n",
       "      <th>CreditCard</th>\n",
       "      <th>Edu_2</th>\n",
       "      <th>Edu_3</th>\n",
       "      <th>intercept</th>\n",
       "    </tr>\n",
       "  </thead>\n",
       "  <tbody>\n",
       "    <tr>\n",
       "      <th>OLD</th>\n",
       "      <td>-0.368752</td>\n",
       "      <td>0.372954</td>\n",
       "      <td>0.050974</td>\n",
       "      <td>0.619706</td>\n",
       "      <td>0.149891</td>\n",
       "      <td>0.00073</td>\n",
       "      <td>-0.511391</td>\n",
       "      <td>2.937211</td>\n",
       "      <td>-0.632602</td>\n",
       "      <td>-0.863709</td>\n",
       "      <td>3.16913</td>\n",
       "      <td>3.408929</td>\n",
       "      <td>-2.243679</td>\n",
       "    </tr>\n",
       "  </tbody>\n",
       "</table>\n",
       "</div>"
      ],
      "text/plain": [
       "          Age  Experience    Income    Family     CCAvg  Mortgage  \\\n",
       "OLD -0.368752    0.372954  0.050974  0.619706  0.149891   0.00073   \n",
       "\n",
       "     Securities Account  CD Account    Online  CreditCard    Edu_2     Edu_3  \\\n",
       "OLD           -0.511391    2.937211 -0.632602   -0.863709  3.16913  3.408929   \n",
       "\n",
       "     intercept  \n",
       "OLD  -2.243679  "
      ]
     },
     "execution_count": 24,
     "metadata": {},
     "output_type": "execute_result"
    }
   ],
   "source": [
    "# Display all the parameters \n",
    "d= get_model_params(logreg)\n",
    "display_model(True, logreg , x_test , y_test, x_train , y_train, y_predict, y_probability,d)\n",
    "print(d)\n",
    "\n",
    "dfmodel_stats = pd.DataFrame(logreg.coef_, index=['OLD'])\n",
    "dfmodel_stats.columns = x_train.columns\n",
    "dfmodel_stats['intercept'] = logreg.intercept_[0]\n",
    "dfmodel_stats"
   ]
  },
  {
   "cell_type": "markdown",
   "metadata": {},
   "source": [
    "## Give your reasoning on how can the model perform better? (10 marks)\n",
    "Hint: Check parameter"
   ]
  },
  {
   "cell_type": "code",
   "execution_count": 25,
   "metadata": {
    "scrolled": false
   },
   "outputs": [
    {
     "data": {
      "text/html": [
       "<div>\n",
       "<style scoped>\n",
       "    .dataframe tbody tr th:only-of-type {\n",
       "        vertical-align: middle;\n",
       "    }\n",
       "\n",
       "    .dataframe tbody tr th {\n",
       "        vertical-align: top;\n",
       "    }\n",
       "\n",
       "    .dataframe thead th {\n",
       "        text-align: right;\n",
       "    }\n",
       "</style>\n",
       "<table border=\"1\" class=\"dataframe\">\n",
       "  <thead>\n",
       "    <tr style=\"text-align: right;\">\n",
       "      <th></th>\n",
       "      <th>C</th>\n",
       "      <th>F1 Score</th>\n",
       "      <th>Precision</th>\n",
       "      <th>Recall</th>\n",
       "      <th>Roc Auc Score</th>\n",
       "      <th>Testing accuracy</th>\n",
       "      <th>Trainig accuracy</th>\n",
       "      <th>penalty</th>\n",
       "      <th>solver</th>\n",
       "    </tr>\n",
       "  </thead>\n",
       "  <tbody>\n",
       "    <tr>\n",
       "      <th>16</th>\n",
       "      <td>0.75</td>\n",
       "      <td>0.758333</td>\n",
       "      <td>0.892157</td>\n",
       "      <td>0.659420</td>\n",
       "      <td>0.825672</td>\n",
       "      <td>0.961333</td>\n",
       "      <td>0.957143</td>\n",
       "      <td>l1</td>\n",
       "      <td>liblinear</td>\n",
       "    </tr>\n",
       "    <tr>\n",
       "      <th>15</th>\n",
       "      <td>0.50</td>\n",
       "      <td>0.758333</td>\n",
       "      <td>0.892157</td>\n",
       "      <td>0.659420</td>\n",
       "      <td>0.825672</td>\n",
       "      <td>0.961333</td>\n",
       "      <td>0.956286</td>\n",
       "      <td>l1</td>\n",
       "      <td>liblinear</td>\n",
       "    </tr>\n",
       "    <tr>\n",
       "      <th>17</th>\n",
       "      <td>1.00</td>\n",
       "      <td>0.755187</td>\n",
       "      <td>0.883495</td>\n",
       "      <td>0.659420</td>\n",
       "      <td>0.825305</td>\n",
       "      <td>0.960667</td>\n",
       "      <td>0.956857</td>\n",
       "      <td>l1</td>\n",
       "      <td>liblinear</td>\n",
       "    </tr>\n",
       "    <tr>\n",
       "      <th>22</th>\n",
       "      <td>0.75</td>\n",
       "      <td>0.751055</td>\n",
       "      <td>0.898990</td>\n",
       "      <td>0.644928</td>\n",
       "      <td>0.818793</td>\n",
       "      <td>0.960667</td>\n",
       "      <td>0.956571</td>\n",
       "      <td>l2</td>\n",
       "      <td>liblinear</td>\n",
       "    </tr>\n",
       "    <tr>\n",
       "      <th>5</th>\n",
       "      <td>1.00</td>\n",
       "      <td>0.756098</td>\n",
       "      <td>0.861111</td>\n",
       "      <td>0.673913</td>\n",
       "      <td>0.831450</td>\n",
       "      <td>0.960000</td>\n",
       "      <td>0.957714</td>\n",
       "      <td>l2</td>\n",
       "      <td>newton-cg</td>\n",
       "    </tr>\n",
       "  </tbody>\n",
       "</table>\n",
       "</div>"
      ],
      "text/plain": [
       "       C  F1 Score  Precision    Recall  Roc Auc Score  Testing accuracy  \\\n",
       "16  0.75  0.758333   0.892157  0.659420       0.825672          0.961333   \n",
       "15  0.50  0.758333   0.892157  0.659420       0.825672          0.961333   \n",
       "17  1.00  0.755187   0.883495  0.659420       0.825305          0.960667   \n",
       "22  0.75  0.751055   0.898990  0.644928       0.818793          0.960667   \n",
       "5   1.00  0.756098   0.861111  0.673913       0.831450          0.960000   \n",
       "\n",
       "    Trainig accuracy penalty     solver  \n",
       "16          0.957143      l1  liblinear  \n",
       "15          0.956286      l1  liblinear  \n",
       "17          0.956857      l1  liblinear  \n",
       "22          0.956571      l2  liblinear  \n",
       "5           0.957714      l2  newton-cg  "
      ]
     },
     "execution_count": 25,
     "metadata": {},
     "output_type": "execute_result"
    }
   ],
   "source": [
    "#fine tune params and build a display data frame\n",
    "#using different penalty , solver and C\n",
    "solver = ['newton-cg','lbfgs','liblinear','sag','saga']\n",
    "C = [0.01,0.1,0.25,0.5,0.75,1]\n",
    "penalty = ['l1', 'l2']\n",
    "\n",
    "model_df = pd.DataFrame()\n",
    "for s in solver:\n",
    "    for p in penalty:\n",
    "        proceed = True\n",
    "        if p == 'l1':\n",
    "            proceed = s in ['saga', 'liblinear']\n",
    "        \n",
    "        if proceed:\n",
    "            for c in C:\n",
    "                model = LogisticRegression(C=c,random_state=42,penalty=p,solver=s)\n",
    "                model.fit(x_train, y_train)\n",
    "                y_probability_1 = model.predict_proba(x_test,)[:,np.where(model.classes_ ==1)[0][0]] # get the true \n",
    "                y_predict_1 = model.predict(x_test)\n",
    "                d= get_model_params(model)\n",
    "                display_model(False, model , x_test , y_test, x_train , y_train, y_predict_1, y_probability_1,d)\n",
    "                model_df =model_df.append(d,ignore_index=True)\n",
    "\n",
    "model_df.sort_values(by=['Testing accuracy'], inplace=True, ascending=False)\n",
    "model_df.head(5)"
   ]
  },
  {
   "cell_type": "code",
   "execution_count": 26,
   "metadata": {},
   "outputs": [
    {
     "data": {
      "image/png": "[encoded data removed]",
      "text/plain": [
       "<Figure size 720x288 with 3 Axes>"
      ]
     },
     "metadata": {},
     "output_type": "display_data"
    },
    {
     "name": "stdout",
     "output_type": "stream",
     "text": [
      "\n",
      "{'C': 0.75, 'solver': 'liblinear', 'penalty': 'l1', 'Trainig accuracy': 0.9571428571428572, 'Testing accuracy': 0.9613333333333334, 'Recall': 0.6594202898550725, 'Precision': 0.8921568627450981, 'F1 Score': 0.7583333333333333, 'Roc Auc Score': 0.825671965779225}\n"
     ]
    }
   ],
   "source": [
    "# The best model is liblinear l1 0.75\n",
    "# Printing the details of Best Model\n",
    "best_model =LogisticRegression(C=0.75,random_state=42,penalty='l1',solver='liblinear')\n",
    "best_model.fit(x_train, y_train)\n",
    "y_probability_best = best_model.predict_proba(x_test,)[:,np.where(best_model.classes_ ==1)[0][0]] # get the true \n",
    "y_predict_best = best_model.predict(x_test)\n",
    "\n",
    "d_best= get_model_params(best_model)\n",
    "display_model(True, best_model , x_test , y_test, x_train , y_train, y_predict_best, y_probability_best,d_best)\n",
    "print(d_best)\n"
   ]
  },
  {
   "cell_type": "code",
   "execution_count": 27,
   "metadata": {},
   "outputs": [
    {
     "data": {
      "text/html": [
       "<div>\n",
       "<style scoped>\n",
       "    .dataframe tbody tr th:only-of-type {\n",
       "        vertical-align: middle;\n",
       "    }\n",
       "\n",
       "    .dataframe tbody tr th {\n",
       "        vertical-align: top;\n",
       "    }\n",
       "\n",
       "    .dataframe thead th {\n",
       "        text-align: right;\n",
       "    }\n",
       "</style>\n",
       "<table border=\"1\" class=\"dataframe\">\n",
       "  <thead>\n",
       "    <tr style=\"text-align: right;\">\n",
       "      <th></th>\n",
       "      <th>BEST</th>\n",
       "      <th>OLD</th>\n",
       "    </tr>\n",
       "  </thead>\n",
       "  <tbody>\n",
       "    <tr>\n",
       "      <th>Age</th>\n",
       "      <td>-0.206451</td>\n",
       "      <td>-0.368752</td>\n",
       "    </tr>\n",
       "    <tr>\n",
       "      <th>CCAvg</th>\n",
       "      <td>0.156223</td>\n",
       "      <td>0.149891</td>\n",
       "    </tr>\n",
       "    <tr>\n",
       "      <th>CD Account</th>\n",
       "      <td>3.100361</td>\n",
       "      <td>2.937211</td>\n",
       "    </tr>\n",
       "    <tr>\n",
       "      <th>CreditCard</th>\n",
       "      <td>-0.870193</td>\n",
       "      <td>-0.863709</td>\n",
       "    </tr>\n",
       "    <tr>\n",
       "      <th>Edu_2</th>\n",
       "      <td>3.429290</td>\n",
       "      <td>3.169130</td>\n",
       "    </tr>\n",
       "    <tr>\n",
       "      <th>Edu_3</th>\n",
       "      <td>3.626777</td>\n",
       "      <td>3.408929</td>\n",
       "    </tr>\n",
       "    <tr>\n",
       "      <th>Experience</th>\n",
       "      <td>0.212547</td>\n",
       "      <td>0.372954</td>\n",
       "    </tr>\n",
       "    <tr>\n",
       "      <th>Family</th>\n",
       "      <td>0.632695</td>\n",
       "      <td>0.619706</td>\n",
       "    </tr>\n",
       "    <tr>\n",
       "      <th>Income</th>\n",
       "      <td>0.053334</td>\n",
       "      <td>0.050974</td>\n",
       "    </tr>\n",
       "    <tr>\n",
       "      <th>Mortgage</th>\n",
       "      <td>0.000763</td>\n",
       "      <td>0.000730</td>\n",
       "    </tr>\n",
       "    <tr>\n",
       "      <th>Online</th>\n",
       "      <td>-0.617733</td>\n",
       "      <td>-0.632602</td>\n",
       "    </tr>\n",
       "    <tr>\n",
       "      <th>Securities Account</th>\n",
       "      <td>-0.478233</td>\n",
       "      <td>-0.511391</td>\n",
       "    </tr>\n",
       "    <tr>\n",
       "      <th>intercept</th>\n",
       "      <td>-6.877537</td>\n",
       "      <td>-2.243679</td>\n",
       "    </tr>\n",
       "  </tbody>\n",
       "</table>\n",
       "</div>"
      ],
      "text/plain": [
       "                        BEST       OLD\n",
       "Age                -0.206451 -0.368752\n",
       "CCAvg               0.156223  0.149891\n",
       "CD Account          3.100361  2.937211\n",
       "CreditCard         -0.870193 -0.863709\n",
       "Edu_2               3.429290  3.169130\n",
       "Edu_3               3.626777  3.408929\n",
       "Experience          0.212547  0.372954\n",
       "Family              0.632695  0.619706\n",
       "Income              0.053334  0.050974\n",
       "Mortgage            0.000763  0.000730\n",
       "Online             -0.617733 -0.632602\n",
       "Securities Account -0.478233 -0.511391\n",
       "intercept          -6.877537 -2.243679"
      ]
     },
     "execution_count": 27,
     "metadata": {},
     "output_type": "execute_result"
    }
   ],
   "source": [
    "#comparing OLD and BEST model\n",
    "dfmodel_stats = pd.DataFrame()\n",
    "series = pd.Series(best_model.coef_[0],index = x_train.columns, name='BEST')\n",
    "dfmodel_stats = dfmodel_stats.append( series , ignore_index=False)\n",
    "dfmodel_stats['intercept'] = best_model.intercept_[0]\n",
    "\n",
    "series = pd.Series(logreg.coef_[0],index = x_train.columns, name='OLD')\n",
    "dfmodel_stats = dfmodel_stats.append( series , ignore_index=False)\n",
    "dfmodel_stats.loc['OLD']['intercept'] = logreg.intercept_[0]\n",
    "\n",
    "dfmodel_stats.head().T\n"
   ]
  },
  {
   "cell_type": "markdown",
   "metadata": {},
   "source": [
    "## Give Business understanding of your model? (5 marks)"
   ]
  },
  {
   "cell_type": "raw",
   "metadata": {},
   "source": [
    "Understanding the dataset :\n",
    "(1) Data set from previous campaign for Personal Loan\n",
    "(2.1) Customers were targetted for marketting\n",
    "(2.2) Out of the targetted customers, Did this customer accept the personal loan offered in the last campaign?\n",
    "\n",
    "\n",
    "So Factors which help in Personal Loan are :\n",
    "1) Education , Expereince , Family\n",
    "2) Having a CD Account\n",
    "3) Having a revolving CCAvg\n",
    "\n",
    "Factors against approval  include\n",
    "1) Age , Online Account \n",
    "2) Having a Credit Account or a Securities account\n",
    "\n",
    "So for the new Marketing  campaign I will target :\n",
    "1) Customers who are at least Graduate \n",
    "2) Customers who do not have Securities Account\n",
    "3) More Family Members \n",
    "4) Customers who maintain a CD account\n",
    "5) Income on the higher side\n",
    "\n",
    "\n"
   ]
  },
  {
   "cell_type": "code",
   "execution_count": null,
   "metadata": {},
   "outputs": [],
   "source": []
  },
  {
   "cell_type": "code",
   "execution_count": null,
   "metadata": {},
   "outputs": [],
   "source": []
  }
 ],
 "metadata": {
  "kernelspec": {
   "display_name": "Python 3",
   "language": "python",
   "name": "python3"
  },
  "language_info": {
   "codemirror_mode": {
    "name": "ipython",
    "version": 3
   },
   "file_extension": ".py",
   "mimetype": "text/x-python",
   "name": "python",
   "nbconvert_exporter": "python",
   "pygments_lexer": "ipython3",
   "version": "3.7.6"
  }
 },
 "nbformat": 4,
 "nbformat_minor": 4
}
